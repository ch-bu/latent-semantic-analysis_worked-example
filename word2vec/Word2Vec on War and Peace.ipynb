{
 "cells": [
  {
   "cell_type": "code",
   "execution_count": 30,
   "metadata": {
    "collapsed": false
   },
   "outputs": [],
   "source": [
    "from gensim.models import Word2Vec\n",
    "from gensim import corpora\n",
    "from gensim.models.ldamodel import LdaModel\n",
    "from gensim import corpora\n",
    "from nltk.tokenize import sent_tokenize\n",
    "from nltk.corpus import stopwords\n",
    "import re\n",
    "from collections import defaultdict"
   ]
  },
  {
   "cell_type": "code",
   "execution_count": 22,
   "metadata": {
    "collapsed": false
   },
   "outputs": [],
   "source": [
    "with open('../datasets/war_and_peace.txt', 'r') as book:\n",
    "    war_n_peace = book.read().decode('utf-8')\n",
    "    \n",
    "war_n_peace_sentences = sent_tokenize(war_n_peace)"
   ]
  },
  {
   "cell_type": "code",
   "execution_count": 26,
   "metadata": {
    "collapsed": false
   },
   "outputs": [],
   "source": [
    "documents = [[re.sub(r'[^\\w]', ' ', word).lower().encode('utf-8') for word\n",
    "              in sentence.split() if word not in stopwords.words('english')]\n",
    "              for sentence in war_n_peace_sentences]"
   ]
  },
  {
   "cell_type": "code",
   "execution_count": 29,
   "metadata": {
    "collapsed": false
   },
   "outputs": [],
   "source": [
    "# Remove words that appear only three times\n",
    "frequency = defaultdict(int)\n",
    "for sentence in documents:\n",
    "    for token in sentence:\n",
    "        frequency[token] += 1\n",
    "              \n",
    "documents = [[token for token in sentence if frequency[token] > 3] \n",
    "             for sentence in documents]"
   ]
  },
  {
   "cell_type": "code",
   "execution_count": 31,
   "metadata": {
    "collapsed": true
   },
   "outputs": [],
   "source": [
    "# Build corpus\n",
    "dictionary = corpora.Dictionary(documents)\n",
    "corpus = [dictionary.doc2bow(text) for text in documents]"
   ]
  },
  {
   "cell_type": "code",
   "execution_count": 34,
   "metadata": {
    "collapsed": false
   },
   "outputs": [],
   "source": [
    "# Build model\n",
    "model = Word2Vec(documents, min_count=5)"
   ]
  },
  {
   "cell_type": "code",
   "execution_count": 35,
   "metadata": {
    "collapsed": false
   },
   "outputs": [
    {
     "name": "stdout",
     "output_type": "stream",
     "text": [
      "[('command', 0.9997435212135315), ('order', 0.9995584487915039), ('history', 0.999535322189331), ('historians', 0.9994533658027649), ('attack', 0.9994515180587769), ('millions', 0.9994088411331177), ('action ', 0.9993894100189209), ('activity', 0.9993834495544434), ('free', 0.9993827939033508), ('power', 0.9993734955787659)]\n"
     ]
    }
   ],
   "source": [
    "# Play around with data\n",
    "print(model.most_similar('war'))"
   ]
  },
  {
   "cell_type": "code",
   "execution_count": 36,
   "metadata": {
    "collapsed": false
   },
   "outputs": [
    {
     "name": "stdout",
     "output_type": "stream",
     "text": [
      "[('things', 0.999721348285675), ('knows', 0.9996534585952759), ('happened ', 0.999642014503479), ('show', 0.999574601650238), ('simply', 0.9995417594909668), ('use', 0.9995259046554565), ('bring', 0.9995113611221313), ('worse', 0.9995080232620239), ('best', 0.9994785785675049), ('spend', 0.9994626641273499)]\n"
     ]
    }
   ],
   "source": [
    "print(model.most_similar('peace'))"
   ]
  },
  {
   "cell_type": "code",
   "execution_count": 39,
   "metadata": {
    "collapsed": false
   },
   "outputs": [
    {
     "name": "stdout",
     "output_type": "stream",
     "text": [
      "house\n"
     ]
    }
   ],
   "source": [
    "print(model.doesnt_match('war peace house'.split()))"
   ]
  },
  {
   "cell_type": "code",
   "execution_count": null,
   "metadata": {
    "collapsed": true
   },
   "outputs": [],
   "source": []
  }
 ],
 "metadata": {
  "kernelspec": {
   "display_name": "Python 2",
   "language": "python",
   "name": "python2"
  },
  "language_info": {
   "codemirror_mode": {
    "name": "ipython",
    "version": 2
   },
   "file_extension": ".py",
   "mimetype": "text/x-python",
   "name": "python",
   "nbconvert_exporter": "python",
   "pygments_lexer": "ipython2",
   "version": "2.7.11"
  }
 },
 "nbformat": 4,
 "nbformat_minor": 0
}
