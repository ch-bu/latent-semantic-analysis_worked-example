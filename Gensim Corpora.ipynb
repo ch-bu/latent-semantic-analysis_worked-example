{
 "cells": [
  {
   "cell_type": "markdown",
   "metadata": {},
   "source": [
    "# Gensim Corpora"
   ]
  },
  {
   "cell_type": "code",
   "execution_count": 23,
   "metadata": {
    "collapsed": false
   },
   "outputs": [
    {
     "name": "stdout",
     "output_type": "stream",
     "text": [
      "Dictionary(3 unique tokens: [u'cheat', u'house', u'my'])\n",
      "[(0, 1), (1, 1)]\n",
      "None\n",
      "Dictionary(4 unique tokens: [u'cheat', u'path', u'my', u'garden'])\n",
      "[(0, u'cheat'), (1, u'path'), (2, u'my'), (3, u'garden')]\n",
      "path\n"
     ]
    }
   ],
   "source": [
    "from gensim import corpora\n",
    "\n",
    "docs = [[\"cheat\", \"house\"], [\"my\", \"house\"]]\n",
    "\n",
    "dictionary = corpora.Dictionary(docs)\n",
    "\n",
    "print(dictionary)\n",
    "print(dictionary.doc2bow(docs[0]))\n",
    "\n",
    "dictionary.add_documents([[\"garden\", \"path\"]])\n",
    "\n",
    "print(dictionary.filter_n_most_frequent(1))\n",
    "print(dictionary)\n",
    "print(dictionary.items())\n",
    "print(dictionary.get(1))"
   ]
  }
 ],
 "metadata": {
  "kernelspec": {
   "display_name": "Python 2",
   "language": "python",
   "name": "python2"
  },
  "language_info": {
   "codemirror_mode": {
    "name": "ipython",
    "version": 2
   },
   "file_extension": ".py",
   "mimetype": "text/x-python",
   "name": "python",
   "nbconvert_exporter": "python",
   "pygments_lexer": "ipython2",
   "version": "2.7.11"
  }
 },
 "nbformat": 4,
 "nbformat_minor": 0
}
