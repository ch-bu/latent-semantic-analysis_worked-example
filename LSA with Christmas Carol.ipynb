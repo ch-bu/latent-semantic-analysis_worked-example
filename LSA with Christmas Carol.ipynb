{
 "cells": [
  {
   "cell_type": "markdown",
   "metadata": {},
   "source": [
    "# LSA with whole texts"
   ]
  },
  {
   "cell_type": "code",
   "execution_count": 4,
   "metadata": {
    "collapsed": true
   },
   "outputs": [],
   "source": [
    "import re\n",
    "import enchant\n",
    "import numpy\n",
    "from nltk.stem.porter import PorterStemmer\n",
    "from nltk.corpus import stopwords\n",
    "from gensim import corpora\n",
    "from gensim.models.tfidfmodel import TfidfModel\n",
    "from gensim.models.lsimodel import LsiModel\n",
    "from gensim.similarities import MatrixSimilarity"
   ]
  },
  {
   "cell_type": "code",
   "execution_count": 5,
   "metadata": {
    "collapsed": false
   },
   "outputs": [],
   "source": [
    "# Read christmas carol data set\n",
    "with open('datasets/christmas_carol.txt', 'r') as dickens:\n",
    "    the_book = dickens.read()"
   ]
  },
  {
   "cell_type": "code",
   "execution_count": 6,
   "metadata": {
    "collapsed": false
   },
   "outputs": [],
   "source": [
    "# Remove punctuation\n",
    "the_book = \"\".join(c for c in the_book if c not in ('!','.',':'))\n",
    "\n",
    "# Split text into paragraphs\n",
    "paragraphs = re.split('\\s{4,}', the_book)\n",
    "\n",
    "# Only allow english words to appear in the documents\n",
    "d = enchant.Dict('en_US')\n",
    "\n",
    "# Enable stemmer\n",
    "porter_stemmer = PorterStemmer()\n",
    "\n",
    "# List of stopwords\n",
    "stops = stopwords.words('english')\n",
    "\n",
    "documents = [[porter_stemmer.stem(word.decode('utf-8')).lower() for word in paragraph.split() \n",
    "              if d.check(porter_stemmer.stem(word.decode('utf-8'))) and \n",
    "             word.lower() not in stops] \n",
    "             for paragraph in paragraphs]"
   ]
  },
  {
   "cell_type": "code",
   "execution_count": 7,
   "metadata": {
    "collapsed": false
   },
   "outputs": [],
   "source": [
    "# Build dictionary\n",
    "dictionary = corpora.Dictionary(documents)\n",
    "\n",
    "# Build corpus\n",
    "corpus = [dictionary.doc2bow(paragraph) for paragraph in documents]\n",
    "\n",
    "# Build tf-idf model\n",
    "tfidf = TfidfModel(corpus)\n",
    "\n",
    "# Change corpus according to model\n",
    "tfidf_corpus = tfidf[corpus]"
   ]
  },
  {
   "cell_type": "code",
   "execution_count": 8,
   "metadata": {
    "collapsed": false
   },
   "outputs": [],
   "source": [
    "# Run LSA\n",
    "lsa = LsiModel(corpus, num_topics=300)\n",
    "\n",
    "# Build matrix similarities\n",
    "similarities = MatrixSimilarity(lsa[corpus], num_features=lsa.num_terms)"
   ]
  },
  {
   "cell_type": "code",
   "execution_count": 9,
   "metadata": {
    "collapsed": false
   },
   "outputs": [
    {
     "name": "stdout",
     "output_type": "stream",
     "text": [
      "[(0, 0.9999997), (1, 0.33231094), (101, 0.33022419), (114, 0.33022419), (584, 0.28640732), (4, 0.26280689), (45, 0.26116392), (209, 0.23293547), (527, 0.22403502), (83, 0.22130106)]\n",
      "[u'dead', u'begin', u'doubt', u'burial', u'sign', u'chief', u'mourner', u'sign', u'name', u'good', u'upon', u'chose', u'put', u'hand', u'old', u'marley', u'dead', u'door-nail']\n",
      "[u'mind', u\"don't\", u'mean', u'say', u'dead', u'door-nail', u'might', u'regard', u'coffin-nail', u'deadest', u'trade', u'wisdom', u'ancestor', u'unhallow', u'hand', u'shall', u'disturb', u'done', u'therefor', u'permit', u'marley', u'dead', u'door-nail']\n",
      "[u'doubt']\n"
     ]
    }
   ],
   "source": [
    "cosine_similarities = list(enumerate(similarities))\n",
    "\n",
    "first_paragraph = cosine_similarities[0][1]\n",
    "\n",
    "# Get most similar paragraphs\n",
    "most_similar_paragraphs = sorted(enumerate(first_paragraph), \n",
    "                                 key=lambda x: x[1], reverse=True)\n",
    "\n",
    "print(most_similar_paragraphs[0:10])\n",
    "\n",
    "print(documents[0])\n",
    "print(documents[most_similar_paragraphs[1][0]])\n",
    "print(documents[most_similar_paragraphs[2][0]])"
   ]
  },
  {
   "cell_type": "code",
   "execution_count": 31,
   "metadata": {
    "collapsed": false
   },
   "outputs": [
    {
     "name": "stdout",
     "output_type": "stream",
     "text": [
      "[(0, '-0.322*\"5\" + -0.268*\"84\" + -0.242*\"54\" + -0.234*\"227\" + -0.222*\"153\"'), (1, '0.815*\"227\" + -0.256*\"199\" + -0.124*\"251\" + 0.123*\"18\" + -0.109*\"84\"'), (2, '0.427*\"199\" + -0.397*\"54\" + 0.331*\"227\" + -0.183*\"35\" + 0.174*\"251\"'), (3, '-0.559*\"5\" + 0.285*\"2\" + 0.261*\"46\" + 0.241*\"54\" + 0.170*\"3\"'), (4, '-0.378*\"2\" + -0.368*\"3\" + 0.291*\"153\" + -0.224*\"5\" + 0.213*\"84\"'), (5, '-0.408*\"54\" + 0.309*\"153\" + -0.287*\"199\" + -0.250*\"5\" + 0.216*\"3\"'), (6, '0.302*\"3\" + -0.255*\"619\" + 0.233*\"153\" + -0.217*\"304\" + -0.187*\"244\"'), (7, '0.324*\"304\" + 0.211*\"54\" + -0.197*\"2\" + -0.190*\"440\" + 0.168*\"422\"'), (8, '-0.316*\"54\" + 0.262*\"619\" + 0.233*\"2\" + -0.200*\"219\" + 0.199*\"30\"'), (9, '-0.382*\"338\" + -0.348*\"84\" + 0.217*\"5\" + 0.202*\"153\" + -0.190*\"13\"')]\n"
     ]
    }
   ],
   "source": [
    "print(lsa.print_topics(num_topics=10, num_words=5))"
   ]
  },
  {
   "cell_type": "code",
   "execution_count": 68,
   "metadata": {
    "collapsed": false
   },
   "outputs": [
    {
     "name": "stdout",
     "output_type": "stream",
     "text": [
      "[(0, 0.71732837), (1, 0.54634875), (45, 0.43563884), (4, 0.41289711), (258, 0.40463182), (687, 0.33629864), (644, 0.3023279), (417, 0.29983068), (521, 0.29162228), (548, 0.28124219)]\n",
      "﻿MARLEY was dead to begin with There is no doubt\r\n",
      "whatever about that The register of his burial was\r\n",
      "signed by the clergyman, the clerk, the undertaker,\r\n",
      "and the chief mourner Scrooge signed it and\r\n",
      "Scrooge's name was good upon 'Change, for anything he\r\n",
      "chose to put his hand to Old Marley was as dead as a\r\n",
      "door-nail\n"
     ]
    }
   ],
   "source": [
    "# Compare another corpus to lsi\n",
    "text = [\"marley\", \"dead\", \"door-nail\", \"burial\", \"old\"]\n",
    "\n",
    "text_tuples = dictionary.doc2bow(text)\n",
    "\n",
    "all_sims = similarities[lsa[text_tuples]]\n",
    "\n",
    "print(sorted(enumerate(all_sims), key=lambda x: x[1], reverse=True))[0:10]\n",
    "print(paragraphs[0])"
   ]
  }
 ],
 "metadata": {
  "kernelspec": {
   "display_name": "Python 2",
   "language": "python",
   "name": "python2"
  },
  "language_info": {
   "codemirror_mode": {
    "name": "ipython",
    "version": 2
   },
   "file_extension": ".py",
   "mimetype": "text/x-python",
   "name": "python",
   "nbconvert_exporter": "python",
   "pygments_lexer": "ipython2",
   "version": "2.7.11"
  }
 },
 "nbformat": 4,
 "nbformat_minor": 0
}
